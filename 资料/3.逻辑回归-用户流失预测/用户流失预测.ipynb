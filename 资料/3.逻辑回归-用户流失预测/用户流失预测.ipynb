{
 "cells": [
  {
   "cell_type": "code",
   "execution_count": 1,
   "metadata": {
    "collapsed": true
   },
   "outputs": [],
   "source": [
    "import numpy as np"
   ]
  },
  {
   "cell_type": "code",
   "execution_count": 2,
   "metadata": {
    "collapsed": true
   },
   "outputs": [],
   "source": [
    "train_data = np.genfromtxt('Churn-Modelling.csv',delimiter=',',dtype=np.str)\n",
    "test_data = np.genfromtxt('Churn-Modelling-Test-Data.csv',delimiter=',',dtype=np.str)"
   ]
  },
  {
   "cell_type": "code",
   "execution_count": 3,
   "metadata": {
    "collapsed": true
   },
   "outputs": [],
   "source": [
    "x_train = train_data[1:,:-1]\n",
    "y_train = train_data[1:,-1].astype(int)\n",
    "x_test = test_data[1:,:-1]\n",
    "y_test = test_data[1:,-1].astype(int)"
   ]
  },
  {
   "cell_type": "code",
   "execution_count": 4,
   "metadata": {
    "collapsed": true
   },
   "outputs": [],
   "source": [
    "x_train = np.delete(x_train,[0,1,2],axis=1)\n",
    "x_test = np.delete(x_test,[0,1,2],axis=1)"
   ]
  },
  {
   "cell_type": "code",
   "execution_count": 5,
   "metadata": {
    "collapsed": false
   },
   "outputs": [
    {
     "data": {
      "text/plain": [
       "array([['619', 'France', 'Female', '42', '2', '0', '1', '1', '1',\n",
       "        '101348.88'],\n",
       "       ['608', 'Spain', 'Female', '41', '1', '83807.86', '1', '0', '1',\n",
       "        '112542.58'],\n",
       "       ['502', 'France', 'Female', '42', '8', '159660.8', '3', '1', '0',\n",
       "        '113931.57'],\n",
       "       ['699', 'France', 'Female', '39', '1', '0', '2', '0', '0',\n",
       "        '93826.63'],\n",
       "       ['850', 'Spain', 'Female', '43', '2', '125510.82', '1', '1', '1',\n",
       "        '79084.1']], dtype='<U23')"
      ]
     },
     "execution_count": 5,
     "metadata": {},
     "output_type": "execute_result"
    }
   ],
   "source": [
    "x_train[:5]"
   ]
  },
  {
   "cell_type": "code",
   "execution_count": 6,
   "metadata": {
    "collapsed": false
   },
   "outputs": [
    {
     "data": {
      "text/plain": [
       "array([1, 0, 1, 0, 0])"
      ]
     },
     "execution_count": 6,
     "metadata": {},
     "output_type": "execute_result"
    }
   ],
   "source": [
    "y_train[:5]"
   ]
  },
  {
   "cell_type": "code",
   "execution_count": 7,
   "metadata": {
    "collapsed": true
   },
   "outputs": [],
   "source": [
    "# x_train[x_train=='Female'] = 0\n",
    "# x_train[x_train=='Male'] = 1"
   ]
  },
  {
   "cell_type": "code",
   "execution_count": 8,
   "metadata": {
    "collapsed": true
   },
   "outputs": [],
   "source": [
    "from sklearn.preprocessing import LabelEncoder\n",
    "labelencoder1 = LabelEncoder()\n",
    "x_train[:,1] = labelencoder1.fit_transform(x_train[:,1])\n",
    "x_test[:,1] = labelencoder1.transform(x_test[:,1])\n",
    "labelencoder2 = LabelEncoder()\n",
    "x_train[:,2] = labelencoder2.fit_transform(x_train[:,2])\n",
    "x_test[:,2] = labelencoder2.transform(x_test[:,2])"
   ]
  },
  {
   "cell_type": "code",
   "execution_count": 9,
   "metadata": {
    "collapsed": false
   },
   "outputs": [
    {
     "data": {
      "text/plain": [
       "array([['619', '0', '0', '42', '2', '0', '1', '1', '1', '101348.88'],\n",
       "       ['608', '2', '0', '41', '1', '83807.86', '1', '0', '1',\n",
       "        '112542.58'],\n",
       "       ['502', '0', '0', '42', '8', '159660.8', '3', '1', '0',\n",
       "        '113931.57'],\n",
       "       ['699', '0', '0', '39', '1', '0', '2', '0', '0', '93826.63'],\n",
       "       ['850', '2', '0', '43', '2', '125510.82', '1', '1', '1',\n",
       "        '79084.1']], dtype='<U23')"
      ]
     },
     "execution_count": 9,
     "metadata": {},
     "output_type": "execute_result"
    }
   ],
   "source": [
    "x_train[:5]"
   ]
  },
  {
   "cell_type": "code",
   "execution_count": 10,
   "metadata": {
    "collapsed": true
   },
   "outputs": [],
   "source": [
    "x_train = x_train.astype(np.float32)\n",
    "x_test = x_test.astype(np.float32)\n",
    "y_train = y_train.astype(np.float32)\n",
    "y_test = y_test.astype(np.float32)"
   ]
  },
  {
   "cell_type": "code",
   "execution_count": 11,
   "metadata": {
    "collapsed": true
   },
   "outputs": [],
   "source": [
    "from sklearn.preprocessing import StandardScaler\n",
    "sc = StandardScaler()\n",
    "x_train = sc.fit_transform(x_train)\n",
    "x_test = sc.transform(x_test)"
   ]
  },
  {
   "cell_type": "code",
   "execution_count": 12,
   "metadata": {
    "collapsed": false
   },
   "outputs": [
    {
     "data": {
      "text/plain": [
       "array([[-0.32622153, -0.90188617, -1.0959874 ,  0.29351756, -1.0417597 ,\n",
       "        -1.2258477 , -0.9115835 ,  0.64609164,  0.97024256,  0.02188664],\n",
       "       [-0.44003606,  1.5150673 , -1.0959874 ,  0.19816396, -1.3875377 ,\n",
       "         0.11734999, -0.9115835 , -1.547768  ,  0.97024256,  0.21653381],\n",
       "       [-1.5367943 , -0.90188617, -1.0959874 ,  0.29351756,  1.0329077 ,\n",
       "         1.3330532 ,  2.5270567 ,  0.64609164, -1.0306702 ,  0.240687  ],\n",
       "       [ 0.5015206 , -0.90188617, -1.0959874 ,  0.00745677, -1.3875377 ,\n",
       "        -1.2258477 ,  0.8077365 , -1.547768  , -1.0306702 , -0.10891777],\n",
       "       [ 2.0638838 ,  1.5150673 , -1.0959874 ,  0.38887113, -1.0417597 ,\n",
       "         0.78572786, -0.9115835 ,  0.64609164,  0.97024256, -0.36527565]],\n",
       "      dtype=float32)"
      ]
     },
     "execution_count": 12,
     "metadata": {},
     "output_type": "execute_result"
    }
   ],
   "source": [
    "x_train[:5]"
   ]
  },
  {
   "cell_type": "code",
   "execution_count": 13,
   "metadata": {
    "collapsed": false
   },
   "outputs": [
    {
     "ename": "NameError",
     "evalue": "name 'classification_report' is not defined",
     "output_type": "error",
     "traceback": [
      "\u001b[0;31m---------------------------------------------------------------------------\u001b[0m",
      "\u001b[0;31mNameError\u001b[0m                                 Traceback (most recent call last)",
      "\u001b[0;32m<ipython-input-13-1ef8903e78f4>\u001b[0m in \u001b[0;36m<module>\u001b[0;34m()\u001b[0m\n\u001b[1;32m      5\u001b[0m \u001b[1;33m\u001b[0m\u001b[0m\n\u001b[1;32m      6\u001b[0m \u001b[0mpredictions\u001b[0m \u001b[1;33m=\u001b[0m \u001b[0mLR\u001b[0m\u001b[1;33m.\u001b[0m\u001b[0mpredict\u001b[0m\u001b[1;33m(\u001b[0m\u001b[0mx_test\u001b[0m\u001b[1;33m)\u001b[0m\u001b[1;33m\u001b[0m\u001b[0m\n\u001b[0;32m----> 7\u001b[0;31m \u001b[0mprint\u001b[0m\u001b[1;33m(\u001b[0m\u001b[0mclassification_report\u001b[0m\u001b[1;33m(\u001b[0m\u001b[0my_test\u001b[0m\u001b[1;33m,\u001b[0m \u001b[0mpredictions\u001b[0m\u001b[1;33m)\u001b[0m\u001b[1;33m)\u001b[0m\u001b[1;33m\u001b[0m\u001b[0m\n\u001b[0m",
      "\u001b[0;31mNameError\u001b[0m: name 'classification_report' is not defined"
     ]
    }
   ],
   "source": [
    "from sklearn.linear_model import LinearRegression\n",
    "from sklearn.metrics import classification\n",
    "\n",
    "LR = LinearRegression()\n",
    "LR.fit(x_train,y_train)\n",
    "\n",
    "predictions = LR.predict(x_test)\n",
    "print(classification_report(y_test, predictions))"
   ]
  },
  {
   "cell_type": "code",
   "execution_count": null,
   "metadata": {
    "collapsed": true
   },
   "outputs": [],
   "source": []
  },
  {
   "cell_type": "code",
   "execution_count": null,
   "metadata": {
    "collapsed": true
   },
   "outputs": [],
   "source": []
  },
  {
   "cell_type": "code",
   "execution_count": null,
   "metadata": {
    "collapsed": true
   },
   "outputs": [],
   "source": []
  },
  {
   "cell_type": "code",
   "execution_count": null,
   "metadata": {
    "collapsed": true
   },
   "outputs": [],
   "source": []
  }
 ],
 "metadata": {
  "anaconda-cloud": {},
  "kernelspec": {
   "display_name": "Python [default]",
   "language": "python",
   "name": "python3"
  },
  "language_info": {
   "codemirror_mode": {
    "name": "ipython",
    "version": 3
   },
   "file_extension": ".py",
   "mimetype": "text/x-python",
   "name": "python",
   "nbconvert_exporter": "python",
   "pygments_lexer": "ipython3",
   "version": "3.5.2"
  }
 },
 "nbformat": 4,
 "nbformat_minor": 1
}
